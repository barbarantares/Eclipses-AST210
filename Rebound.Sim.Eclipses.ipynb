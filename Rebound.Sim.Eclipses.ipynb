{
 "cells": [
  {
   "cell_type": "markdown",
   "metadata": {},
   "source": [
    "## Instalación Rebound"
   ]
  },
  {
   "cell_type": "code",
   "execution_count": 9,
   "metadata": {
    "metadata": {}
   },
   "outputs": [
    {
     "name": "stdout",
     "output_type": "stream",
     "text": [
      "Requirement already satisfied: rebound in /home/barbara/anaconda3/lib/python3.11/site-packages (4.3.2)\n"
     ]
    }
   ],
   "source": [
    "!python -m pip install rebound"
   ]
  },
  {
   "cell_type": "markdown",
   "metadata": {},
   "source": [
    "# Librerías y Paquetes"
   ]
  },
  {
   "cell_type": "code",
   "execution_count": 10,
   "metadata": {
    "metadata": {}
   },
   "outputs": [],
   "source": [
    "import rebound\n",
    "import numpy as np\n",
    "import datetime\n",
    "from datetime import datetime, timedelta\n",
    "import numpy as np\n",
    "import matplotlib.pyplot as plt\n"
   ]
  },
  {
   "cell_type": "markdown",
   "metadata": {},
   "source": [
    "# Creación de Simulación"
   ]
  },
  {
   "cell_type": "code",
   "execution_count": 11,
   "metadata": {
    "metadata": {}
   },
   "outputs": [],
   "source": [
    "sim=rebound.Simulation()\n",
    "sim.units=('AU','yr','Msun')"
   ]
  },
  {
   "cell_type": "code",
   "execution_count": 12,
   "metadata": {
    "metadata": {}
   },
   "outputs": [
    {
     "name": "stdout",
     "output_type": "stream",
     "text": [
      "Searching NASA Horizons for 'Sun'... \n"
     ]
    },
    {
     "name": "stdout",
     "output_type": "stream",
     "text": [
      "Found: Sun (10) \n",
      "Searching NASA Horizons for '399'... \n",
      "Found: Earth (399) \n",
      "Searching NASA Horizons for '301'... \n",
      "Found: Moon (301) \n"
     ]
    }
   ],
   "source": [
    "sim = rebound.Simulation()\n",
    "sim.units = ('AU', 'yr', 'Msun')\n",
    "sim.add(\"Sun\", hash = 'Sun')\n",
    "sim.add(\"399\", hash='tierra')\n",
    "sim.add(\"301\", hash='luna') \n",
    "sim.move_to_com()\n"
   ]
  },
  {
   "cell_type": "code",
   "execution_count": 13,
   "metadata": {
    "metadata": {}
   },
   "outputs": [
    {
     "data": {
      "image/png": "[encoded data removed]",
      "text/plain": [
       "<Figure size 360x360 with 1 Axes>"
      ]
     },
     "metadata": {
      "needs_background": "light"
     },
     "output_type": "display_data"
    }
   ],
   "source": [
    "op = rebound.OrbitPlot(sim, unitlabel=\"[AU]\", color=True, periastron=True, xlim=[-2,2], ylim=[-2.5,1.5])\n",
    "op.fig.gca().get_children()[1].set_color('orange')\n",
    "op.fig.gca().get_children()[2].set_color('green') "
   ]
  },
  {
   "cell_type": "code",
   "execution_count": 14,
   "metadata": {
    "metadata": {}
   },
   "outputs": [
    {
     "data": {
      "image/png": "[encoded data removed]",
      "text/plain": [
       "<Figure size 360x360 with 1 Axes>"
      ]
     },
     "metadata": {
      "needs_background": "light"
     },
     "output_type": "display_data"
    }
   ],
   "source": [
    "op = rebound.OrbitPlot(sim, unitlabel=\"[AU]\", orbit_style=None, color=True)"
   ]
  },
  {
   "cell_type": "code",
   "execution_count": 15,
   "metadata": {
    "metadata": {}
   },
   "outputs": [
    {
     "ename": "AttributeError",
     "evalue": "'Axes' object has no attribute '_axes_class'",
     "output_type": "error",
     "traceback": [
      "\u001b[0;31m---------------------------------------------------------------------------\u001b[0m",
      "\u001b[0;31mAttributeError\u001b[0m                            Traceback (most recent call last)",
      "\u001b[0;32m/tmp/ipykernel_19731/3976149324.py\u001b[0m in \u001b[0;36m<module>\u001b[0;34m\u001b[0m\n\u001b[0;32m----> 1\u001b[0;31m \u001b[0mops\u001b[0m \u001b[0;34m=\u001b[0m \u001b[0mrebound\u001b[0m\u001b[0;34m.\u001b[0m\u001b[0mOrbitPlotSet\u001b[0m\u001b[0;34m(\u001b[0m\u001b[0msim\u001b[0m\u001b[0;34m)\u001b[0m\u001b[0;34m\u001b[0m\u001b[0;34m\u001b[0m\u001b[0m\n\u001b[0m",
      "\u001b[0;32m~/.local/lib/python3.10/site-packages/rebound/plotting.py\u001b[0m in \u001b[0;36m__init__\u001b[0;34m(self, sim, slices, fig, ax, figsize, unitlabel, **kwargs)\u001b[0m\n\u001b[1;32m    363\u001b[0m             \u001b[0mdivider\u001b[0m \u001b[0;34m=\u001b[0m \u001b[0mmake_axes_locatable\u001b[0m\u001b[0;34m(\u001b[0m\u001b[0mself\u001b[0m\u001b[0;34m.\u001b[0m\u001b[0max_main\u001b[0m\u001b[0;34m)\u001b[0m\u001b[0;34m\u001b[0m\u001b[0;34m\u001b[0m\u001b[0m\n\u001b[1;32m    364\u001b[0m             \u001b[0mdivider\u001b[0m\u001b[0;34m.\u001b[0m\u001b[0mset_aspect\u001b[0m\u001b[0;34m(\u001b[0m\u001b[0;32mTrue\u001b[0m\u001b[0;34m)\u001b[0m\u001b[0;34m\u001b[0m\u001b[0;34m\u001b[0m\u001b[0m\n\u001b[0;32m--> 365\u001b[0;31m             \u001b[0mself\u001b[0m\u001b[0;34m.\u001b[0m\u001b[0max_top\u001b[0m   \u001b[0;34m=\u001b[0m \u001b[0mdivider\u001b[0m\u001b[0;34m.\u001b[0m\u001b[0mappend_axes\u001b[0m\u001b[0;34m(\u001b[0m\u001b[0;34m\"top\"\u001b[0m\u001b[0;34m,\u001b[0m  \u001b[0msize\u001b[0m\u001b[0;34m=\u001b[0m\u001b[0;34m\"%.2f%%\"\u001b[0m\u001b[0;34m%\u001b[0m\u001b[0;34m(\u001b[0m\u001b[0;36m100.\u001b[0m\u001b[0;34m*\u001b[0m\u001b[0mslices\u001b[0m\u001b[0;34m)\u001b[0m\u001b[0;34m,\u001b[0m \u001b[0msharex\u001b[0m\u001b[0;34m=\u001b[0m\u001b[0mself\u001b[0m\u001b[0;34m.\u001b[0m\u001b[0max_main\u001b[0m\u001b[0;34m,\u001b[0m \u001b[0mpad\u001b[0m\u001b[0;34m=\u001b[0m\u001b[0;36m0\u001b[0m\u001b[0;34m)\u001b[0m\u001b[0;34m\u001b[0m\u001b[0;34m\u001b[0m\u001b[0m\n\u001b[0m\u001b[1;32m    366\u001b[0m             \u001b[0mself\u001b[0m\u001b[0;34m.\u001b[0m\u001b[0max_top\u001b[0m\u001b[0;34m.\u001b[0m\u001b[0mset_aspect\u001b[0m\u001b[0;34m(\u001b[0m\u001b[0;34m'equal'\u001b[0m\u001b[0;34m,\u001b[0m \u001b[0madjustable\u001b[0m\u001b[0;34m=\u001b[0m\u001b[0;34m'datalim'\u001b[0m\u001b[0;34m)\u001b[0m\u001b[0;34m\u001b[0m\u001b[0;34m\u001b[0m\u001b[0m\n\u001b[1;32m    367\u001b[0m             \u001b[0mself\u001b[0m\u001b[0;34m.\u001b[0m\u001b[0max_right\u001b[0m \u001b[0;34m=\u001b[0m \u001b[0mdivider\u001b[0m\u001b[0;34m.\u001b[0m\u001b[0mappend_axes\u001b[0m\u001b[0;34m(\u001b[0m\u001b[0;34m\"right\"\u001b[0m\u001b[0;34m,\u001b[0m \u001b[0msize\u001b[0m\u001b[0;34m=\u001b[0m\u001b[0;34m\"%.2f%%\"\u001b[0m\u001b[0;34m%\u001b[0m\u001b[0;34m(\u001b[0m\u001b[0;36m100.\u001b[0m\u001b[0;34m*\u001b[0m\u001b[0mslices\u001b[0m\u001b[0;34m)\u001b[0m\u001b[0;34m,\u001b[0m \u001b[0msharey\u001b[0m\u001b[0;34m=\u001b[0m\u001b[0mself\u001b[0m\u001b[0;34m.\u001b[0m\u001b[0max_main\u001b[0m\u001b[0;34m,\u001b[0m \u001b[0mpad\u001b[0m\u001b[0;34m=\u001b[0m\u001b[0;36m0\u001b[0m\u001b[0;34m)\u001b[0m\u001b[0;34m\u001b[0m\u001b[0;34m\u001b[0m\u001b[0m\n",
      "\u001b[0;32m~/.local/lib/python3.10/site-packages/matplotlib/_api/deprecation.py\u001b[0m in \u001b[0;36mwrapper\u001b[0;34m(*inner_args, **inner_kwargs)\u001b[0m\n\u001b[1;32m    382\u001b[0m             \u001b[0;31m# Early return in the simple, non-deprecated case (much faster than\u001b[0m\u001b[0;34m\u001b[0m\u001b[0;34m\u001b[0m\u001b[0m\n\u001b[1;32m    383\u001b[0m             \u001b[0;31m# calling bind()).\u001b[0m\u001b[0;34m\u001b[0m\u001b[0;34m\u001b[0m\u001b[0m\n\u001b[0;32m--> 384\u001b[0;31m             \u001b[0;32mreturn\u001b[0m \u001b[0mfunc\u001b[0m\u001b[0;34m(\u001b[0m\u001b[0;34m*\u001b[0m\u001b[0minner_args\u001b[0m\u001b[0;34m,\u001b[0m \u001b[0;34m**\u001b[0m\u001b[0minner_kwargs\u001b[0m\u001b[0;34m)\u001b[0m\u001b[0;34m\u001b[0m\u001b[0;34m\u001b[0m\u001b[0m\n\u001b[0m\u001b[1;32m    385\u001b[0m         \u001b[0marguments\u001b[0m \u001b[0;34m=\u001b[0m \u001b[0msignature\u001b[0m\u001b[0;34m.\u001b[0m\u001b[0mbind\u001b[0m\u001b[0;34m(\u001b[0m\u001b[0;34m*\u001b[0m\u001b[0minner_args\u001b[0m\u001b[0;34m,\u001b[0m \u001b[0;34m**\u001b[0m\u001b[0minner_kwargs\u001b[0m\u001b[0;34m)\u001b[0m\u001b[0;34m.\u001b[0m\u001b[0marguments\u001b[0m\u001b[0;34m\u001b[0m\u001b[0;34m\u001b[0m\u001b[0m\n\u001b[1;32m    386\u001b[0m         \u001b[0;32mif\u001b[0m \u001b[0mis_varargs\u001b[0m \u001b[0;32mand\u001b[0m \u001b[0marguments\u001b[0m\u001b[0;34m.\u001b[0m\u001b[0mget\u001b[0m\u001b[0;34m(\u001b[0m\u001b[0mname\u001b[0m\u001b[0;34m)\u001b[0m\u001b[0;34m:\u001b[0m\u001b[0;34m\u001b[0m\u001b[0;34m\u001b[0m\u001b[0m\n",
      "\u001b[0;32m/usr/lib/python3/dist-packages/mpl_toolkits/axes_grid1/axes_divider.py\u001b[0m in \u001b[0;36mappend_axes\u001b[0;34m(self, position, size, pad, add_to_figure, **kwargs)\u001b[0m\n\u001b[1;32m    554\u001b[0m             \u001b[0max\u001b[0m \u001b[0;34m=\u001b[0m \u001b[0mself\u001b[0m\u001b[0;34m.\u001b[0m\u001b[0mnew_vertical\u001b[0m\u001b[0;34m(\u001b[0m\u001b[0msize\u001b[0m\u001b[0;34m,\u001b[0m \u001b[0mpad\u001b[0m\u001b[0;34m,\u001b[0m \u001b[0mpack_start\u001b[0m\u001b[0;34m=\u001b[0m\u001b[0;32mTrue\u001b[0m\u001b[0;34m,\u001b[0m \u001b[0;34m**\u001b[0m\u001b[0mkwargs\u001b[0m\u001b[0;34m)\u001b[0m\u001b[0;34m\u001b[0m\u001b[0;34m\u001b[0m\u001b[0m\n\u001b[1;32m    555\u001b[0m         \u001b[0;32melif\u001b[0m \u001b[0mposition\u001b[0m \u001b[0;34m==\u001b[0m \u001b[0;34m\"top\"\u001b[0m\u001b[0;34m:\u001b[0m\u001b[0;34m\u001b[0m\u001b[0;34m\u001b[0m\u001b[0m\n\u001b[0;32m--> 556\u001b[0;31m             \u001b[0max\u001b[0m \u001b[0;34m=\u001b[0m \u001b[0mself\u001b[0m\u001b[0;34m.\u001b[0m\u001b[0mnew_vertical\u001b[0m\u001b[0;34m(\u001b[0m\u001b[0msize\u001b[0m\u001b[0;34m,\u001b[0m \u001b[0mpad\u001b[0m\u001b[0;34m,\u001b[0m \u001b[0mpack_start\u001b[0m\u001b[0;34m=\u001b[0m\u001b[0;32mFalse\u001b[0m\u001b[0;34m,\u001b[0m \u001b[0;34m**\u001b[0m\u001b[0mkwargs\u001b[0m\u001b[0;34m)\u001b[0m\u001b[0;34m\u001b[0m\u001b[0;34m\u001b[0m\u001b[0m\n\u001b[0m\u001b[1;32m    557\u001b[0m         \u001b[0;32melse\u001b[0m\u001b[0;34m:\u001b[0m\u001b[0;34m\u001b[0m\u001b[0;34m\u001b[0m\u001b[0m\n\u001b[1;32m    558\u001b[0m             _api.check_in_list([\"left\", \"right\", \"bottom\", \"top\"],\n",
      "\u001b[0;32m/usr/lib/python3/dist-packages/mpl_toolkits/axes_grid1/axes_divider.py\u001b[0m in \u001b[0;36mnew_vertical\u001b[0;34m(self, size, pad, pack_start, **kwargs)\u001b[0m\n\u001b[1;32m    531\u001b[0m             locator = self.new_locator(\n\u001b[1;32m    532\u001b[0m                 nx=self._xrefindex, ny=len(self._vertical)-1)\n\u001b[0;32m--> 533\u001b[0;31m         \u001b[0max\u001b[0m \u001b[0;34m=\u001b[0m \u001b[0mself\u001b[0m\u001b[0;34m.\u001b[0m\u001b[0m_get_new_axes\u001b[0m\u001b[0;34m(\u001b[0m\u001b[0;34m**\u001b[0m\u001b[0mkwargs\u001b[0m\u001b[0;34m)\u001b[0m\u001b[0;34m\u001b[0m\u001b[0;34m\u001b[0m\u001b[0m\n\u001b[0m\u001b[1;32m    534\u001b[0m         \u001b[0max\u001b[0m\u001b[0;34m.\u001b[0m\u001b[0mset_axes_locator\u001b[0m\u001b[0;34m(\u001b[0m\u001b[0mlocator\u001b[0m\u001b[0;34m)\u001b[0m\u001b[0;34m\u001b[0m\u001b[0;34m\u001b[0m\u001b[0m\n\u001b[1;32m    535\u001b[0m         \u001b[0;32mreturn\u001b[0m \u001b[0max\u001b[0m\u001b[0;34m\u001b[0m\u001b[0;34m\u001b[0m\u001b[0m\n",
      "\u001b[0;32m/usr/lib/python3/dist-packages/mpl_toolkits/axes_grid1/axes_divider.py\u001b[0m in \u001b[0;36m_get_new_axes\u001b[0;34m(self, axes_class, **kwargs)\u001b[0m\n\u001b[1;32m    435\u001b[0m         \u001b[0;32mif\u001b[0m \u001b[0maxes_class\u001b[0m \u001b[0;32mis\u001b[0m \u001b[0;32mNone\u001b[0m\u001b[0;34m:\u001b[0m\u001b[0;34m\u001b[0m\u001b[0;34m\u001b[0m\u001b[0m\n\u001b[1;32m    436\u001b[0m             \u001b[0;32mif\u001b[0m \u001b[0misinstance\u001b[0m\u001b[0;34m(\u001b[0m\u001b[0maxes\u001b[0m\u001b[0;34m,\u001b[0m \u001b[0mSubplotBase\u001b[0m\u001b[0;34m)\u001b[0m\u001b[0;34m:\u001b[0m\u001b[0;34m\u001b[0m\u001b[0;34m\u001b[0m\u001b[0m\n\u001b[0;32m--> 437\u001b[0;31m                 \u001b[0maxes_class\u001b[0m \u001b[0;34m=\u001b[0m \u001b[0maxes\u001b[0m\u001b[0;34m.\u001b[0m\u001b[0m_axes_class\u001b[0m\u001b[0;34m\u001b[0m\u001b[0;34m\u001b[0m\u001b[0m\n\u001b[0m\u001b[1;32m    438\u001b[0m             \u001b[0;32melse\u001b[0m\u001b[0;34m:\u001b[0m\u001b[0;34m\u001b[0m\u001b[0;34m\u001b[0m\u001b[0m\n\u001b[1;32m    439\u001b[0m                 \u001b[0maxes_class\u001b[0m \u001b[0;34m=\u001b[0m \u001b[0mtype\u001b[0m\u001b[0;34m(\u001b[0m\u001b[0maxes\u001b[0m\u001b[0;34m)\u001b[0m\u001b[0;34m\u001b[0m\u001b[0;34m\u001b[0m\u001b[0m\n",
      "\u001b[0;31mAttributeError\u001b[0m: 'Axes' object has no attribute '_axes_class'"
     ]
    },
    {
     "data": {
      "image/png": "[encoded data removed]",
      "text/plain": [
       "<Figure size 360x576 with 1 Axes>"
      ]
     },
     "metadata": {
      "needs_background": "light"
     },
     "output_type": "display_data"
    }
   ],
   "source": [
    "ops = rebound.OrbitPlotSet(sim)\n"
   ]
  },
  {
   "cell_type": "markdown",
   "metadata": {},
   "source": [
    "## Propiedades Partículas de la Simulación"
   ]
  },
  {
   "cell_type": "code",
   "execution_count": 16,
   "metadata": {
    "metadata": {}
   },
   "outputs": [
    {
     "name": "stdout",
     "output_type": "stream",
     "text": [
      "Sol:  <rebound.particle.Particle object at 0x707ee8c768c0, m=0.9999999999950272 x=2.2488462212318094e-06 y=2.0824758385083915e-06 z=-1.2966215091631678e-10 vx=-1.2670799896417548e-05 vy=1.409041788997395e-05 vz=-7.161189923965818e-10>\n",
      "Tierra:  <rebound.particle.Particle object at 0x707ee8c77bc0, m=3.0034896154502038e-06 x=-0.73967356687948 y=-0.6849143218131463 z=4.4446023491608196e-05 vx=4.166305642304237 vy=-4.6368244188446 vz=4.304858576507121e-05>\n",
      "Luna:  <rebound.particle.Particle object at 0x707ee8c768c0, m=3.694303350091508e-08 x=-0.7374690623142584 y=-0.6859963315782325 z=-0.0001037007182334932 vx=4.259102461032013 vy=-4.432876342806046 vz=0.01588453779995437>\n"
     ]
    }
   ],
   "source": [
    "p=sim.particles[0]\n",
    "print(\"Sol: \",p)\n",
    "\n",
    "p=sim.particles[1]\n",
    "print(\"Tierra: \", p)\n",
    "\n",
    "p=sim.particles[2]\n",
    "print(\"Luna: \", p)"
   ]
  },
  {
   "cell_type": "code",
   "execution_count": 17,
   "metadata": {
    "metadata": {}
   },
   "outputs": [
    {
     "name": "stdout",
     "output_type": "stream",
     "text": [
      "Masa Sol:  0.9999999999950272 Masas Solares\n",
      "Masa Tierra:  3.0034896154502038e-06\n",
      "Masa Luna:  3.694303350091508e-08\n",
      "\n",
      "Coordenadas Sol:  2.2488462212318094e-06 2.0824758385083915e-06 -1.2966215091631678e-10\n",
      "Coordenadas Tierra:  -0.73967356687948 -0.6849143218131463 4.4446023491608196e-05\n",
      "Coordenadas Luna:  -0.7374690623142584 -0.6859963315782325 -0.0001037007182334932\n"
     ]
    }
   ],
   "source": [
    "print(\"Masa Sol: \",sim.particles[0].m ,\"Masas Solares\")\n",
    "print(\"Masa Tierra: \", sim.particles[1].m)\n",
    "print(\"Masa Luna: \", sim.particles[2].m)\n",
    "print()\n",
    "print(\"Coordenadas Sol: \", sim.particles[0].x , sim.particles[0].y , sim.particles[0].z)\n",
    "print(\"Coordenadas Tierra: \", sim.particles[1].x , sim.particles[1].y , sim.particles[1].z)\n",
    "print(\"Coordenadas Luna: \", sim.particles[2].x , sim.particles[2].y, sim.particles[2].z)"
   ]
  },
  {
   "cell_type": "markdown",
   "metadata": {},
   "source": [
    "# Órbitas"
   ]
  },
  {
   "cell_type": "code",
   "execution_count": 18,
   "metadata": {
    "metadata": {}
   },
   "outputs": [
    {
     "name": "stdout",
     "output_type": "stream",
     "text": [
      "<rebound.Orbit instance, a=1.0003669978800789 e=0.016846767065009902 inc=4.453005030065521e-05 Omega=2.458509851623032 omega=5.6519801084433094 f=2.0612664220918493>\n",
      "<rebound.Orbit instance, a=0.9723627885560863 e=0.03929651643535789 inc=0.0025846697589522196 Omega=-2.3524937912139845 omega=2.6942602506355193 f=3.5490798167243796>\n"
     ]
    }
   ],
   "source": [
    "orbits = sim.orbits()\n",
    "for orbit in orbits:\n",
    "    print(orbit)"
   ]
  },
  {
   "cell_type": "code",
   "execution_count": 19,
   "metadata": {
    "metadata": {}
   },
   "outputs": [
    {
     "name": "stdout",
     "output_type": "stream",
     "text": [
      "Órbita Luna (respecto a la Tierra): <rebound.Orbit instance, a=0.0025473510444453343 e=0.04779185477772436 inc=0.09137111677662818 Omega=0.26242156604218736 omega=3.227602444151922 f=5.476407082506212>\n",
      "órbita Tierra (respecto al Sol):  <rebound.Orbit instance, a=1.0003669978800789 e=0.016846767065009902 inc=4.453005030065521e-05 Omega=2.458509851623032 omega=2.5103874548535163 f=2.0612664220918493>\n"
     ]
    }
   ],
   "source": [
    "print(\"Órbita Luna (respecto a la Tierra):\",sim.particles[1].orbit(primary=sim.particles[2]))\n",
    "print(\"órbita Tierra (respecto al Sol): \", sim.particles[0].orbit(primary=sim.particles[1]))"
   ]
  },
  {
   "cell_type": "markdown",
   "metadata": {},
   "source": [
    "## Cálculo Fechas Eclipses"
   ]
  },
  {
   "cell_type": "code",
   "execution_count": 20,
   "metadata": {
    "metadata": {}
   },
   "outputs": [
    {
     "name": "stdout",
     "output_type": "stream",
     "text": [
      "2023-05-05: Lunar\n",
      "2023-10-14: Solar\n",
      "2023-10-28: Lunar\n",
      "2024-03-25: Lunar\n",
      "2024-04-08: Solar\n",
      "2024-09-17: Lunar\n",
      "2024-09-18: Lunar\n",
      "2024-10-02: Solar\n",
      "2025-03-14: Lunar\n",
      "2025-03-29: Solar\n",
      "2025-09-07: Lunar\n",
      "2025-09-21: Solar\n",
      "2026-02-17: Solar\n",
      "2026-03-03: Lunar\n",
      "2026-08-12: Solar\n",
      "2026-08-27: Lunar\n",
      "2026-08-28: Lunar\n",
      "2027-02-06: Solar\n",
      "2027-02-20: Lunar\n"
     ]
    }
   ],
   "source": [
    "time = np.linspace(-1, 3, 1000000)\n",
    "eclipses = []\n",
    "tipos_de_eclipses = []\n",
    "producto_cruz = []\n",
    "Solar = []\n",
    "Lunar = []\n",
    "fech=[]\n",
    "distancias_TL = []\n",
    "distancias_TL2 = []\n",
    "\n",
    "Solar_total = []\n",
    "Solar_anular = []\n",
    "Solar_parcial=[]\n",
    "\n",
    "for i in time:\n",
    "    sim.integrate(i)\n",
    "    posicion_tierra = np.array(sim.particles['tierra'].xyz)\n",
    "    posicion_luna = np.array(sim.particles['luna'].xyz)\n",
    "\n",
    "    vector_tierra = posicion_tierra - np.array(sim.particles['Sun'].xyz)\n",
    "    vector_luna = posicion_luna - np.array(sim.particles['Sun'].xyz)\n",
    "\n",
    "    distancia_tierra = np.linalg.norm(vector_tierra)\n",
    "    distancia_luna = np.linalg.norm(vector_luna)\n",
    "\n",
    "    distancia_tierra_luna = np.linalg.norm(vector_tierra-vector_luna)\n",
    "\n",
    "    producto = np.linalg.norm(np.cross(vector_tierra, vector_luna))\n",
    "    producto_cruz.append(producto)\n",
    "\n",
    "    tipo_eclipse = \"no eclipse\"\n",
    "\n",
    "    if abs(producto) < 5.6e-5 :\n",
    "        if distancia_tierra > distancia_luna:\n",
    "            tipo_eclipse = \"Solar\"\n",
    "            Solar.append(producto)\n",
    "            fech.append(i)\n",
    "            distancias_TL.append(distancia_tierra_luna)\n",
    "            \n",
    "        elif distancia_tierra < distancia_luna:\n",
    "            tipo_eclipse = \"Lunar\"\n",
    "            Lunar.append(producto)\n",
    "            distancias_TL2.append(distancia_tierra_luna)\n",
    "\n",
    "        if tipo_eclipse != \"no eclipse\":\n",
    "            eclipse_datetime = datetime.today() + timedelta(days=i * 365.25)\n",
    "            eclipse_date = eclipse_datetime.date()\n",
    "            if eclipse_date not in tipos_de_eclipses:\n",
    "                tipos_de_eclipses.append(eclipse_date)\n",
    "                print(f\"{eclipse_date.strftime('%Y-%m-%d')}: {tipo_eclipse}\")"
   ]
  },
  {
   "cell_type": "markdown",
   "metadata": {},
   "source": [
    "## Diferenciación de Eclipses"
   ]
  },
  {
   "cell_type": "code",
   "execution_count": 21,
   "metadata": {
    "metadata": {}
   },
   "outputs": [
    {
     "name": "stdout",
     "output_type": "stream",
     "text": [
      "Distancia Mínima Tierra-Luna en Eclipse Solar:  0.002397215746232024\n",
      "Promedio Distancia Tierra-Luna en Eclipse Solar:  0.0025835701597231348\n",
      "Distancia Máxima Tierra-Luna en Eclipse Solar:  0.0027173908328632984\n",
      "\n",
      "Distancia Mínima Tierra-Luna en Eclipse Lunar:  0.0023892638237303773\n",
      "Promedio Distancia Tierra-Luna en Eclipse Lunar:  0.002550129894732476\n",
      "Distancia Máxima Tierra-Luna en Eclipse Lunar:  0.0027102809585050317\n"
     ]
    }
   ],
   "source": [
    "print(\"Distancia Mínima Tierra-Luna en Eclipse Solar: \",min(distancias_TL))\n",
    "print(\"Promedio Distancia Tierra-Luna en Eclipse Solar: \",np.mean(distancias_TL))\n",
    "print(\"Distancia Máxima Tierra-Luna en Eclipse Solar: \", max(distancias_TL))\n",
    "print()\n",
    "print(\"Distancia Mínima Tierra-Luna en Eclipse Lunar: \",min(distancias_TL2))\n",
    "print(\"Promedio Distancia Tierra-Luna en Eclipse Lunar: \",np.mean(distancias_TL2))\n",
    "print(\"Distancia Máxima Tierra-Luna en Eclipse Lunar: \", max(distancias_TL2))\n"
   ]
  },
  {
   "cell_type": "code",
   "execution_count": 22,
   "metadata": {
    "metadata": {}
   },
   "outputs": [
    {
     "name": "stdout",
     "output_type": "stream",
     "text": [
      "2023-05-05: Lunar\n",
      "2023-10-14: Solar:['Anular']\n",
      "2023-10-28: Lunar\n",
      "2024-03-25: Lunar\n",
      "2024-04-08: Solar:['Total', 'Parcial']\n",
      "2024-09-17: Lunar\n",
      "2024-09-18: Lunar\n",
      "2024-10-02: Solar:['Parcial']\n",
      "2025-03-14: Lunar\n",
      "2025-03-29: Solar:['Total', 'Parcial']\n",
      "2025-09-07: Lunar\n",
      "2025-09-21: Solar:['Anular']\n",
      "2026-02-17: Solar:['Total', 'Parcial']\n",
      "2026-03-03: Lunar\n",
      "2026-08-12: Solar:['Total', 'Parcial']\n",
      "2026-08-27: Lunar\n",
      "2026-08-28: Lunar\n",
      "2027-02-06: Solar:['Anular']\n",
      "2027-02-20: Lunar\n"
     ]
    }
   ],
   "source": [
    "time = np.linspace(-1, 3, 1000000)\n",
    "eclipses = []\n",
    "tipos_de_eclipses = []\n",
    "producto_cruz = []\n",
    "Solar = []\n",
    "Lunar = []\n",
    "fech=[]\n",
    "distancias_TL = []\n",
    "distancias_TL2 = []\n",
    "for i in time:\n",
    "    sim.integrate(i)\n",
    "    posicion_tierra = np.array(sim.particles['tierra'].xyz)\n",
    "    posicion_luna = np.array(sim.particles['luna'].xyz)\n",
    "\n",
    "    vector_tierra = posicion_tierra - np.array(sim.particles['Sun'].xyz)\n",
    "    vector_luna = posicion_luna - np.array(sim.particles['Sun'].xyz)\n",
    "\n",
    "    distancia_tierra = np.linalg.norm(vector_tierra)\n",
    "    distancia_luna = np.linalg.norm(vector_luna)\n",
    "\n",
    "    distancia_tierra_luna = np.linalg.norm(vector_tierra-vector_luna)\n",
    "\n",
    "    producto = np.linalg.norm(np.cross(vector_tierra, vector_luna))\n",
    "    producto_cruz.append(producto)\n",
    "\n",
    "    tipo_eclipse = \"no eclipse\"\n",
    "    tipo_solar = []\n",
    "    tipo_lunar = []\n",
    "    if abs(producto) < 5.6e-5 :\n",
    "        if distancia_tierra > distancia_luna:\n",
    "            tipo_eclipse = \"Solar\"\n",
    "            Solar.append(producto)\n",
    "            fech.append(i)\n",
    "            distancias_TL.append(distancia_tierra_luna)\n",
    "            tipo_solarr = \"no sé\"\n",
    "            if distancia_tierra_luna in distancias_TL:\n",
    "                if distancia_tierra_luna < 0.002583500392228106 :\n",
    "                    tipo_solarr = \"Total\"\n",
    "                    tipo_solar.append(tipo_solarr)\n",
    "                if   0.002583500392228106 <= distancia_tierra_luna < 0.0027:\n",
    "                    tipo_solarr = \"Anular\"\n",
    "                    tipo_solar.append(tipo_solarr)\n",
    "                else: \n",
    "                    Solar_parcial.append(distancia_tierra_luna)\n",
    "                    tipo_solarr = \"Parcial\"\n",
    "                    tipo_solar.append(tipo_solarr)\n",
    "        \n",
    "            \n",
    "        elif distancia_tierra < distancia_luna:\n",
    "            tipo_eclipse = \"Lunar\"\n",
    "            Lunar.append(producto)\n",
    "            distancias_TL2.append(distancia_tierra_luna)\n",
    "        if tipo_eclipse == \"Solar\":\n",
    "            eclipse_datetime = datetime.today() + timedelta(days=i * 365.25)\n",
    "            eclipse_date = eclipse_datetime.date()\n",
    "            if eclipse_date not in tipos_de_eclipses:\n",
    "                tipos_de_eclipses.append(eclipse_date)\n",
    "                print(f\"{eclipse_date.strftime('%Y-%m-%d')}: {tipo_eclipse}:{tipo_solar}\")\n",
    "        if tipo_eclipse == \"Lunar\":\n",
    "            eclipse_datetime = datetime.today() + timedelta(days=i * 365.25)\n",
    "            eclipse_date = eclipse_datetime.date()\n",
    "            if eclipse_date not in tipos_de_eclipses:\n",
    "                tipos_de_eclipses.append(eclipse_date)\n",
    "                print(f\"{eclipse_date.strftime('%Y-%m-%d')}: {tipo_eclipse}\")\n",
    "        "
   ]
  }
 ],
 "metadata": {
  "kernelspec": {
   "display_name": "Python 3",
   "language": "python",
   "name": "python3"
  },
  "language_info": {
   "codemirror_mode": {
    "name": "ipython",
    "version": 3
   },
   "file_extension": ".py",
   "mimetype": "text/x-python",
   "name": "python",
   "nbconvert_exporter": "python",
   "pygments_lexer": "ipython3",
   "version": "3.10.12"
  }
 },
 "nbformat": 4,
 "nbformat_minor": 2
}
